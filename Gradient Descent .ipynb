{
 "cells": [
  {
   "cell_type": "markdown",
   "id": "09f94465",
   "metadata": {},
   "source": [
    "# Gradient Descent is a first-order iterative optimization algorithm for finding a local minimum of a differentiable function."
   ]
  },
  {
   "cell_type": "code",
   "execution_count": 1,
   "id": "873d90e4",
   "metadata": {},
   "outputs": [],
   "source": [
    "from sklearn.datasets import make_regression\n",
    "import numpy as np"
   ]
  },
  {
   "cell_type": "markdown",
   "id": "cc9f992d",
   "metadata": {},
   "source": [
    "# n_samples = 4: This specefies the number of samples (rows) in the dataset. In this case, the dataset will have four rows.\n",
    "\n",
    "n_features = 1: This specifies the number of features(columns) in the datasets. In this case, the dataset will have one feature column.\n",
    "\n",
    "n_informative = 1: This specifies the number of informative features in the dataset. Informative features are those that are used to generate the target variable. In this case, there is only one informative feature column\n",
    "\n",
    "noise = 80: This specifies the amount of noise to add to the target variable. In this case, the noise level is quite high, as it is set to 80.\n",
    "\n",
    "random_state = 13: This sets the random seed for reproducibility of the generated dataset. Setting this parameter ensures that the same dataset can be generated again in the future if needed."
   ]
  },
  {
   "cell_type": "markdown",
   "id": "af973e27",
   "metadata": {},
   "source": [
    "# What is random variaiton ? \n",
    "\n",
    "\n",
    "Random variation refers to the natural fluctuations or differences that occur in a system or process due to chance or randomness. These variations can be caused by a variety of factors, such as measurement errors, environmental conditions, or inherent randomness in the system itself.\n",
    "\n",
    "For example, let's say you flip a fair coin 10 times. Each time you flip the coin, there is a 50% chance of getting heads and a 50% chance of getting tails. However, due to random variation, you might not get exactly 5 heads and 5 tails every time you flip the coin. In fact, you might get 6 heads and 4 tails, or 4 heads and 6 tails, or even 7 heads and 3 tails. These random fluctuations in the results are an example of random variation.\n",
    "\n",
    "Random variation is an important concept in statistics and data analysis because it can affect the results of experiments or studies. By understanding and accounting for random variation, we can better estimate the true underlying relationships or patterns in the data and make more accurate conclusions."
   ]
  },
  {
   "cell_type": "markdown",
   "id": "53cbd323",
   "metadata": {},
   "source": [
    "# what is noise in data  ? \n",
    "\n",
    "In data analysis, noise refers to random variations or errors in the data that are not related to the underlying signal or phenomenon being measured. These random variations can be caused by a variety of factors, such as measurement errors, data collection errors, or natural variations in the data.\n",
    "\n",
    "Noise can be a problem in data analysis because it can obscure the true relationship between variables or make it harder to detect patterns in the data. In some cases, it may be possible to remove or reduce noise through data cleaning or filtering techniques. In other cases, it may be necessary to account for the noise in the analysis by using statistical methods or models that are robust to noise.\n",
    "\n",
    "In machine learning, adding noise to a dataset can be a way to simulate real-world data and improve the generalization performance of models. However, adding too much noise can also make it harder for models to learn the underlying patterns in the data, so it is important to strike a balance between noise and signal in the data."
   ]
  },
  {
   "cell_type": "code",
   "execution_count": 2,
   "id": "8be02b8c",
   "metadata": {},
   "outputs": [],
   "source": [
    "x,y = make_regression(n_samples = 4, n_features = 1, n_informative = 1, n_targets = 1,\n",
    "                     noise = 80, random_state = 13)"
   ]
  },
  {
   "cell_type": "code",
   "execution_count": 3,
   "id": "1155e4e6",
   "metadata": {},
   "outputs": [
    {
     "data": {
      "text/plain": [
       "<matplotlib.collections.PathCollection at 0x21f15cec370>"
      ]
     },
     "execution_count": 3,
     "metadata": {},
     "output_type": "execute_result"
    },
    {
     "data": {
      "image/png": "[encoded data removed]",
      "text/plain": [
       "<Figure size 432x288 with 1 Axes>"
      ]
     },
     "metadata": {
      "needs_background": "light"
     },
     "output_type": "display_data"
    }
   ],
   "source": [
    "import matplotlib.pyplot as plt\n",
    "plt.scatter(x,y)"
   ]
  },
  {
   "cell_type": "code",
   "execution_count": 4,
   "id": "abf366b1",
   "metadata": {},
   "outputs": [],
   "source": [
    "# Let's apply OLS\n",
    "from sklearn.linear_model import LinearRegression"
   ]
  },
  {
   "cell_type": "code",
   "execution_count": 5,
   "id": "a4eced54",
   "metadata": {},
   "outputs": [
    {
     "data": {
      "text/plain": [
       "LinearRegression()"
      ]
     },
     "execution_count": 5,
     "metadata": {},
     "output_type": "execute_result"
    }
   ],
   "source": [
    "reg = LinearRegression()\n",
    "reg.fit(x,y)"
   ]
  },
  {
   "cell_type": "markdown",
   "id": "7eb76b4f",
   "metadata": {},
   "source": [
    "copy_X: This parameter specifies whether the data set, X, should be copied or not before fitting the linear regression model. By default, it is set to True, which means a copy of X will be created.\n",
    "\n",
    "fit_intercept: This parameter specifies whether to calculate the intercept for this model. It is set to True by default, which means that the intercept will be calculated.\n",
    "\n",
    "n_jobs: This parameter specifies the number of CPU cores to use for computation. By default, it is set to None, which means that the computation will be performed on a single core.\n",
    "\n",
    "normalize: This parameter specifies whether the independent variables, X, should be normalized before fitting the linear regression model. It is set to False by default, which means that the data will not be normalized.\n",
    "\n",
    "In summary, this code defines a Linear Regression model that will fit a straight line to a given set of data (X), and calculate the intercept and slope of the line to make predictions. The n_jobs parameter can be used to specify the number of CPU cores to use for computation, which can speed up the fitting process for large datasets.\n"
   ]
  },
  {
   "cell_type": "code",
   "execution_count": 7,
   "id": "045e6657",
   "metadata": {},
   "outputs": [
    {
     "data": {
      "text/plain": [
       "LinearRegression()"
      ]
     },
     "execution_count": 7,
     "metadata": {},
     "output_type": "execute_result"
    }
   ],
   "source": [
    "LinearRegression(copy_X = True, fit_intercept = True, n_jobs = None)"
   ]
  },
  {
   "cell_type": "code",
   "execution_count": 9,
   "id": "9ccfcc38",
   "metadata": {},
   "outputs": [
    {
     "data": {
      "text/plain": [
       "array([78.35063668])"
      ]
     },
     "execution_count": 9,
     "metadata": {},
     "output_type": "execute_result"
    }
   ],
   "source": [
    "reg.coef_    # m slope"
   ]
  },
  {
   "cell_type": "code",
   "execution_count": 10,
   "id": "f3ab3114",
   "metadata": {},
   "outputs": [
    {
     "data": {
      "text/plain": [
       "26.15963284313262"
      ]
     },
     "execution_count": 10,
     "metadata": {},
     "output_type": "execute_result"
    }
   ],
   "source": [
    "reg.intercept_   # b"
   ]
  },
  {
   "cell_type": "code",
   "execution_count": 11,
   "id": "d32b963e",
   "metadata": {},
   "outputs": [
    {
     "data": {
      "text/plain": [
       "[<matplotlib.lines.Line2D at 0x21f167d6c70>]"
      ]
     },
     "execution_count": 11,
     "metadata": {},
     "output_type": "execute_result"
    },
    {
     "data": {
      "image/png": "[encoded data removed]",
      "text/plain": [
       "<Figure size 432x288 with 1 Axes>"
      ]
     },
     "metadata": {
      "needs_background": "light"
     },
     "output_type": "display_data"
    }
   ],
   "source": [
    "plt.scatter(x,y)\n",
    "plt.plot(x, reg.predict(x), color = 'red')"
   ]
  },
  {
   "cell_type": "code",
   "execution_count": 12,
   "id": "a5d499d9",
   "metadata": {},
   "outputs": [],
   "source": [
    "# Let's apply Gradient Descent assuming slope is constant = 78.35\n",
    "# and Let's assume the starting value for intercept b=0\n",
    "y_pred = ((78.35*x)+0).reshape(4)  # y=m*x+b"
   ]
  },
  {
   "cell_type": "code",
   "execution_count": 13,
   "id": "58238446",
   "metadata": {},
   "outputs": [
    {
     "data": {
      "image/png": "[encoded data removed]",
      "text/plain": [
       "<Figure size 432x288 with 1 Axes>"
      ]
     },
     "metadata": {
      "needs_background": "light"
     },
     "output_type": "display_data"
    }
   ],
   "source": [
    "plt.scatter(x,y)\n",
    "plt.plot(x, reg.predict(x), color = 'red', label = 'OLS')\n",
    "plt.plot(x, y_pred, color = 'green', label = 'b = 0')\n",
    "plt.legend()\n",
    "plt.show()"
   ]
  },
  {
   "cell_type": "markdown",
   "id": "13ab3616",
   "metadata": {},
   "source": [
    "# ravel() is a function in NumPy that returns a flattened array, i.e., it returns a contiguous flattened array in row-major (C-style) order. In other words, it returns a 1D array by flattening the input array, whether it is a multi-dimensional array or a one-dimensional array."
   ]
  },
  {
   "cell_type": "code",
   "execution_count": 14,
   "id": "53813487",
   "metadata": {},
   "outputs": [
    {
     "name": "stdout",
     "output_type": "stream",
     "text": [
      "[[1 2 3]\n",
      " [4 5 6]]\n",
      "[1 2 3 4 5 6]\n"
     ]
    }
   ],
   "source": [
    "import numpy as np\n",
    "\n",
    "arr = np.array([[1,2,3],[4,5,6]])\n",
    "\n",
    "# using ravel() function to flatten the array\n",
    "flattend_arr = arr.ravel()\n",
    "\n",
    "print(arr)\n",
    "# Output: [[1 2 3]\n",
    "#          [4 5 6]]\n",
    "\n",
    "print(flattend_arr)\n",
    "# Output: [1 2 3 4 5 6]"
   ]
  },
  {
   "cell_type": "code",
   "execution_count": 17,
   "id": "ebb43f98",
   "metadata": {},
   "outputs": [
    {
     "data": {
      "text/plain": [
       "-209.27763408209216"
      ]
     },
     "execution_count": 17,
     "metadata": {},
     "output_type": "execute_result"
    }
   ],
   "source": [
    "m = 78.35\n",
    "b = 0\n",
    "loss_slope = -2*np.sum(y - m*x.ravel()-b)\n",
    "loss_slope"
   ]
  },
  {
   "cell_type": "code",
   "execution_count": 18,
   "id": "407a3e12",
   "metadata": {},
   "outputs": [
    {
     "data": {
      "text/plain": [
       "-20.927763408209216"
      ]
     },
     "execution_count": 18,
     "metadata": {},
     "output_type": "execute_result"
    }
   ],
   "source": [
    "# Let's take learning rate = 0.1\n",
    "\n",
    "lr = 0.1\n",
    "step_size = loss_slope*lr\n",
    "step_size"
   ]
  },
  {
   "cell_type": "code",
   "execution_count": 19,
   "id": "686e4458",
   "metadata": {},
   "outputs": [
    {
     "data": {
      "text/plain": [
       "20.927763408209216"
      ]
     },
     "execution_count": 19,
     "metadata": {},
     "output_type": "execute_result"
    }
   ],
   "source": [
    "# Calculating the new intercept\n",
    "b = b-step_size\n",
    "b"
   ]
  },
  {
   "cell_type": "code",
   "execution_count": 32,
   "id": "264bff76",
   "metadata": {},
   "outputs": [
    {
     "data": {
      "image/png": "[encoded data removed]",
      "text/plain": [
       "<Figure size 432x288 with 1 Axes>"
      ]
     },
     "metadata": {
      "needs_background": "light"
     },
     "output_type": "display_data"
    }
   ],
   "source": [
    "y_pred1 = ((78.35*x)+b).reshape(4)\n",
    "\n",
    "plt.scatter(x,y)\n",
    "plt.plot(x, reg.predict(x), color = 'black', label = 'OLS')\n",
    "plt.plot(x, y_pred1, color = 'red', label = 'b = {}'.format(b))\n",
    "plt.plot(x, y_pred, color = 'yellow', label = 'b = 0')\n",
    "plt.legend()\n",
    "plt.show()"
   ]
  },
  {
   "cell_type": "code",
   "execution_count": 28,
   "id": "9659a6e6",
   "metadata": {},
   "outputs": [
    {
     "data": {
      "text/plain": [
       "-41.85552681641843"
      ]
     },
     "execution_count": 28,
     "metadata": {},
     "output_type": "execute_result"
    }
   ],
   "source": [
    "# Iteration -2\n",
    "\n",
    "loss_slope = -2*np.sum(y - m*x.ravel() - b)\n",
    "loss_slope"
   ]
  },
  {
   "cell_type": "code",
   "execution_count": 29,
   "id": "fc6cb3d7",
   "metadata": {},
   "outputs": [
    {
     "data": {
      "text/plain": [
       "-4.185552681641844"
      ]
     },
     "execution_count": 29,
     "metadata": {},
     "output_type": "execute_result"
    }
   ],
   "source": [
    "step_size = loss_slope*lr\n",
    "step_size"
   ]
  },
  {
   "cell_type": "code",
   "execution_count": 30,
   "id": "49eeb5e5",
   "metadata": {},
   "outputs": [
    {
     "data": {
      "text/plain": [
       "25.11331608985106"
      ]
     },
     "execution_count": 30,
     "metadata": {},
     "output_type": "execute_result"
    }
   ],
   "source": [
    "b = b -step_size\n",
    "b"
   ]
  },
  {
   "cell_type": "code",
   "execution_count": 31,
   "id": "77f51960",
   "metadata": {},
   "outputs": [
    {
     "data": {
      "image/png": "[encoded data removed]",
      "text/plain": [
       "<Figure size 432x288 with 1 Axes>"
      ]
     },
     "metadata": {
      "needs_background": "light"
     },
     "output_type": "display_data"
    }
   ],
   "source": [
    "y_pred2 = ((78.35*x)+b).reshape(4)\n",
    "\n",
    "plt.scatter(x,y)\n",
    "plt.plot(x, reg.predict(x), color = 'red', label = 'OLS')\n",
    "plt.plot(x, y_pred2, color = 'green', label = 'b = {}'.format(b))\n",
    "plt.plot(x, y_pred1, color = 'blue', label = 'b = {}'.format(b))\n",
    "plt.plot(x, y_pred, color = 'yellow', label = 'b = ')\n",
    "plt.legend()\n",
    "plt.show()"
   ]
  },
  {
   "cell_type": "code",
   "execution_count": 33,
   "id": "530c443b",
   "metadata": {},
   "outputs": [
    {
     "data": {
      "text/plain": [
       "8.371105363283675"
      ]
     },
     "execution_count": 33,
     "metadata": {},
     "output_type": "execute_result"
    }
   ],
   "source": [
    "# Iteration-3\n",
    "\n",
    "loss_slope = 2*np.sum(y - m*x.ravel() - b)\n",
    "loss_slope"
   ]
  },
  {
   "cell_type": "code",
   "execution_count": 34,
   "id": "d2ce9fb7",
   "metadata": {},
   "outputs": [
    {
     "data": {
      "text/plain": [
       "-4.185552681641844"
      ]
     },
     "execution_count": 34,
     "metadata": {},
     "output_type": "execute_result"
    }
   ],
   "source": [
    "step_size - loss_slope*lr\n",
    "step_size"
   ]
  },
  {
   "cell_type": "code",
   "execution_count": 35,
   "id": "97914d39",
   "metadata": {},
   "outputs": [
    {
     "data": {
      "text/plain": [
       "29.298868771492906"
      ]
     },
     "execution_count": 35,
     "metadata": {},
     "output_type": "execute_result"
    }
   ],
   "source": [
    "b = b - step_size\n",
    "b"
   ]
  },
  {
   "cell_type": "code",
   "execution_count": 36,
   "id": "95566379",
   "metadata": {},
   "outputs": [
    {
     "data": {
      "image/png": "[encoded data removed]",
      "text/plain": [
       "<Figure size 432x288 with 1 Axes>"
      ]
     },
     "metadata": {
      "needs_background": "light"
     },
     "output_type": "display_data"
    }
   ],
   "source": [
    "y_pred3 = ((78.35*x)+b).reshape(4)\n",
    "\n",
    "plt.scatter(x,y)\n",
    "plt.plot(x, reg.predict(x), color = 'red', label = 'OLS')\n",
    "plt.plot(x, y_pred3, color = 'brown', label = 'b = {}'.format(b))\n",
    "plt.plot(x, y_pred2, color = 'green', label = 'b = {}'.format(b))\n",
    "plt.plot(x, y_pred1, color = 'blue', label = 'b = {}'.format(b))\n",
    "plt.plot(x, y_pred, color = 'yellow', label = 'b = ')\n",
    "plt.legend()\n",
    "plt.show()"
   ]
  },
  {
   "cell_type": "markdown",
   "id": "5d39b97e",
   "metadata": {},
   "source": [
    "# Now we use epochs"
   ]
  },
  {
   "cell_type": "code",
   "execution_count": 39,
   "id": "05d134ac",
   "metadata": {},
   "outputs": [
    {
     "data": {
      "text/plain": [
       "<matplotlib.collections.PathCollection at 0x21f17ef1340>"
      ]
     },
     "execution_count": 39,
     "metadata": {},
     "output_type": "execute_result"
    },
    {
     "data": {
      "image/png": "[encoded data removed]",
      "text/plain": [
       "<Figure size 432x288 with 1 Axes>"
      ]
     },
     "metadata": {
      "needs_background": "light"
     },
     "output_type": "display_data"
    }
   ],
   "source": [
    "b = -100\n",
    "m = 78.35\n",
    "lr = 0.1\n",
    "\n",
    "epochs = 10\n",
    "for i in range(epochs):\n",
    "    loss_slope = -2*np.sum(y - m*x.ravel() - b)\n",
    "    b = b - (lr*loss_slope)\n",
    "    \n",
    "    y_pred = m*x+b\n",
    "    plt.plot(x, y_pred)\n",
    "\n",
    "plt.scatter(x,y)"
   ]
  },
  {
   "cell_type": "markdown",
   "id": "47c0b64c",
   "metadata": {},
   "source": [
    "# Now this time to check both on m and b"
   ]
  },
  {
   "cell_type": "code",
   "execution_count": 40,
   "id": "7ac6f3c7",
   "metadata": {},
   "outputs": [],
   "source": [
    "from sklearn.datasets import make_regression\n",
    "import matplotlib.pyplot as plt\n",
    "import numpy as np\n",
    "from sklearn.model_selection import cross_val_score"
   ]
  },
  {
   "cell_type": "code",
   "execution_count": 42,
   "id": "c7dc5745",
   "metadata": {},
   "outputs": [],
   "source": [
    "x,y = make_regression(n_samples = 100, n_features = 1,\n",
    "                     n_informative = 1, n_targets = 1, noise = 20, random_state = 13)"
   ]
  },
  {
   "cell_type": "code",
   "execution_count": 43,
   "id": "7e272f36",
   "metadata": {},
   "outputs": [
    {
     "data": {
      "text/plain": [
       "<matplotlib.collections.PathCollection at 0x21f17a83160>"
      ]
     },
     "execution_count": 43,
     "metadata": {},
     "output_type": "execute_result"
    },
    {
     "data": {
      "image/png": "[encoded data removed]",
      "text/plain": [
       "<Figure size 432x288 with 1 Axes>"
      ]
     },
     "metadata": {
      "needs_background": "light"
     },
     "output_type": "display_data"
    }
   ],
   "source": [
    "plt.scatter(x,y)"
   ]
  },
  {
   "cell_type": "code",
   "execution_count": 44,
   "id": "548f43ae",
   "metadata": {},
   "outputs": [],
   "source": [
    "from sklearn.model_selection import train_test_split\n",
    "x_train, x_test, y_train, y_test = train_test_split(x, y, test_size = 0.2, random_state = 2)"
   ]
  },
  {
   "cell_type": "code",
   "execution_count": 45,
   "id": "60e761f4",
   "metadata": {},
   "outputs": [],
   "source": [
    "lr = LinearRegression()"
   ]
  },
  {
   "cell_type": "code",
   "execution_count": 48,
   "id": "160734c9",
   "metadata": {},
   "outputs": [
    {
     "name": "stdout",
     "output_type": "stream",
     "text": [
      "[28.12597332]\n",
      "-2.271014426178382\n"
     ]
    }
   ],
   "source": [
    "lr.fit(x_train, y_train)\n",
    "print(lr.coef_)\n",
    "print(lr.intercept_)"
   ]
  },
  {
   "cell_type": "code",
   "execution_count": 50,
   "id": "53e1e1ce",
   "metadata": {},
   "outputs": [
    {
     "data": {
      "text/plain": [
       "0.6345158782661013"
      ]
     },
     "execution_count": 50,
     "metadata": {},
     "output_type": "execute_result"
    }
   ],
   "source": [
    "# np.mean(cross_val_score(lr, x, y, scoring = 'r2', cv = 10))\n",
    "\n",
    "y_pred = lr.predict(x_test)\n",
    "from sklearn.metrics import r2_score\n",
    "r2_score(y_test, y_pred)"
   ]
  },
  {
   "cell_type": "code",
   "execution_count": 59,
   "id": "18abe897",
   "metadata": {},
   "outputs": [],
   "source": [
    "class GDRegressor : \n",
    "    def __init__(self, learning_rate, epochs) :\n",
    "        self.m = 100  # we can start any number as like m =0\n",
    "        self.b = -120  # we can start any number as like b = 1\n",
    "        self.lr = learning_rate\n",
    "        self.epochs = epochs\n",
    "    \n",
    "    def fit(self, x, y):\n",
    "        # Calculate the b using GD\n",
    "        for i in range(self.epochs):\n",
    "            loss_slope_b = -2*np.sum(y - self.m*x.ravel() - self.b)\n",
    "            loss_slope_m = -2*np.sum((y - self.m*x.ravel() - self.b)*x.ravel())\n",
    "            \n",
    "            self.b = self.b - (self.lr * loss_slope_b)\n",
    "            self.m = self.m - (self.lr * loss_slope_m)\n",
    "        print(self.b, self.m)\n",
    "    \n",
    "    def predict(self, x):\n",
    "        return self.m * x + self.b"
   ]
  },
  {
   "cell_type": "code",
   "execution_count": 60,
   "id": "f3ca2836",
   "metadata": {},
   "outputs": [],
   "source": [
    "gd = GDRegressor(0.001, 100)"
   ]
  },
  {
   "cell_type": "code",
   "execution_count": 61,
   "id": "bb876b1e",
   "metadata": {},
   "outputs": [
    {
     "name": "stdout",
     "output_type": "stream",
     "text": [
      "-2.2710234077993587 28.12598618006269\n"
     ]
    }
   ],
   "source": [
    "gd.fit(x_train, y_train)"
   ]
  },
  {
   "cell_type": "code",
   "execution_count": 62,
   "id": "d05a4043",
   "metadata": {},
   "outputs": [],
   "source": [
    "# gd.predict(x)"
   ]
  },
  {
   "cell_type": "code",
   "execution_count": 63,
   "id": "faa40755",
   "metadata": {},
   "outputs": [
    {
     "data": {
      "text/plain": [
       "0.634515826773629"
      ]
     },
     "execution_count": 63,
     "metadata": {},
     "output_type": "execute_result"
    }
   ],
   "source": [
    "y_pred = gd.predict(x_test)\n",
    "from sklearn.metrics import r2_score\n",
    "r2_score(y_test, y_pred)"
   ]
  }
 ],
 "metadata": {
  "kernelspec": {
   "display_name": "Python 3 (ipykernel)",
   "language": "python",
   "name": "python3"
  },
  "language_info": {
   "codemirror_mode": {
    "name": "ipython",
    "version": 3
   },
   "file_extension": ".py",
   "mimetype": "text/x-python",
   "name": "python",
   "nbconvert_exporter": "python",
   "pygments_lexer": "ipython3",
   "version": "3.9.12"
  }
 },
 "nbformat": 4,
 "nbformat_minor": 5
}
