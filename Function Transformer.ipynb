{
 "cells": [
  {
   "cell_type": "markdown",
   "id": "83f1ceaa",
   "metadata": {},
   "source": [
    "# What is function transformer in Machine Learning ?"
   ]
  },
  {
   "cell_type": "markdown",
   "id": "9d011e0c",
   "metadata": {},
   "source": [
    "# The function Transformer is a tool in scikit-learn, a popular Python library for machine learning, that allows you to apply a specified function to the input data. The Function Transformer can be useful for performing custom transformation of input data in a machine learning pipeline."
   ]
  },
  {
   "cell_type": "markdown",
   "id": "80800075",
   "metadata": {},
   "source": [
    "# The function Transformer takes as input in a single function that will be applied to each sample in the data. The function can be any Python function that takes a single argument, such as a lambda function or a user-defined function. The function should return the transformed sample."
   ]
  },
  {
   "cell_type": "code",
   "execution_count": 4,
   "id": "0aa09aa8",
   "metadata": {},
   "outputs": [
    {
     "name": "stdout",
     "output_type": "stream",
     "text": [
      "[[0.69314718 1.09861229]\n",
      " [1.38629436 1.60943791]]\n"
     ]
    }
   ],
   "source": [
    "from sklearn.preprocessing import FunctionTransformer\n",
    "import numpy as np\n",
    "\n",
    "# create a dataset\n",
    "x = np.array([[1,2],[3,4]])\n",
    "\n",
    "# define the transformation function\n",
    "log_transform = FunctionTransformer(np.log1p)\n",
    "\n",
    "# apply the transformation to the dataset\n",
    "x_transformed = log_transform.transform(x)\n",
    "\n",
    "# view the transformed data\n",
    "print(x_transformed)"
   ]
  },
  {
   "cell_type": "markdown",
   "id": "98084f83",
   "metadata": {},
   "source": [
    "# Types of function in Machine learning"
   ]
  },
  {
   "cell_type": "markdown",
   "id": "00f823b0",
   "metadata": {},
   "source": [
    "# There are two types of Function Transformer available in scikit-learn:\n",
    "\n",
    "# 1. FunctionTransformer\n",
    "This transformer allows you to specify a single function that will be applied to the entire input data matrix. This transformer can be useful for feature scaling or feature extraction.\n",
    "# 2. ColumnTransformer \n",
    "This transformer allows you to specify a different function for each column or subset of columns in the input data matrix. This transformer can be useful for applying different transformationa to different features in a dataset.\n",
    "\n",
    "Both of these transformers are part of scikit-learn library in Python and can be used in a machine learning pipeline to preprocess data before training a model."
   ]
  },
  {
   "cell_type": "markdown",
   "id": "e0856a02",
   "metadata": {},
   "source": [
    "# For which condition I have to use function transformer in machine learning ?"
   ]
  },
  {
   "cell_type": "markdown",
   "id": "a0aa896c",
   "metadata": {},
   "source": [
    "#  We might consider using a FunctionTransformer in a machine learning pipeline in the following situations:\n",
    "\n",
    "Custom feature engineering: If you want to engineer new features using a custom function, you can use a FunctionTransformer to apply the function to the input data matrix and create new features based on the output.\n",
    "\n",
    "Scaling and normalization: If you want to scale or normalize the input data matrix in a custom way, you can use a FunctionTransformer to apply a custom scaling or normalization function.\n",
    "\n",
    "Data cleaning: If you want to clean the input data matrix by removing outliers, imputing missing values, or replacing certain values, you can use a FunctionTransformer to apply a custom cleaning function.\n",
    "\n",
    "Dimensionality reduction: If you want to reduce the dimensionality of the input data matrix by selecting a subset of features or by applying a dimensionality reduction technique such as PCA, you can use a FunctionTransformer to apply the custom function.\n",
    "\n",
    "In general, a FunctionTransformer can be useful for any situation in which you want to apply a custom function to the input data matrix before training a machine learning model."
   ]
  },
  {
   "cell_type": "markdown",
   "id": "1ea38225",
   "metadata": {},
   "source": [
    "# Practical Usecases"
   ]
  },
  {
   "cell_type": "markdown",
   "id": "83de8f56",
   "metadata": {},
   "source": [
    "# 1. Custom Feature Engineering"
   ]
  },
  {
   "cell_type": "code",
   "execution_count": 6,
   "id": "c71730d6",
   "metadata": {},
   "outputs": [
    {
     "name": "stdout",
     "output_type": "stream",
     "text": [
      "[[ 1  2  1  4]\n",
      " [ 3  4  9 16]]\n"
     ]
    }
   ],
   "source": [
    "from sklearn.preprocessing import FunctionTransformer\n",
    "import numpy as np\n",
    "\n",
    "# create a dataset\n",
    "x = np.array([[1,2],[3,4]])\n",
    "\n",
    "# define the transformation function\n",
    "def my_feature_engineering(x):\n",
    "    return np.hstack((x,x**2))\n",
    "\n",
    "# create a FunctionTransformer to apply the custom function\n",
    "custom_transformer = FunctionTransformer(my_feature_engineering)\n",
    "\n",
    "# apply the transformer to the input data\n",
    "x_transformed = custom_transformer.transform(x)\n",
    "\n",
    "# view the transformed data\n",
    "print(x_transformed)"
   ]
  },
  {
   "cell_type": "markdown",
   "id": "3b03b74f",
   "metadata": {},
   "source": [
    "# 2. Scaling And Normalization"
   ]
  },
  {
   "cell_type": "code",
   "execution_count": 7,
   "id": "3a24395a",
   "metadata": {},
   "outputs": [
    {
     "name": "stdout",
     "output_type": "stream",
     "text": [
      "[[0.25 0.5 ]\n",
      " [0.75 1.  ]]\n"
     ]
    }
   ],
   "source": [
    "from sklearn.preprocessing import FunctionTransformer\n",
    "import numpy as np\n",
    "\n",
    "# create a dataset\n",
    "x = np.array([[1,2],[3,4]])\n",
    "\n",
    "# define the custom scaling function\n",
    "def my_scaling(x):\n",
    "    return x/np.max(x)\n",
    "\n",
    "# create a FunctionTransformer to apply the custom function\n",
    "custom_transformer = FunctionTransformer(my_scaling)\n",
    "\n",
    "# apply the transformer to the input data\n",
    "x_transformed = custom_transformer.transform(x)\n",
    "\n",
    "# view the transformed data\n",
    "print(x_transformed)"
   ]
  },
  {
   "cell_type": "markdown",
   "id": "f1c0bb6c",
   "metadata": {},
   "source": [
    "# 3. Data Cleaning"
   ]
  },
  {
   "cell_type": "code",
   "execution_count": 8,
   "id": "6e5f0e63",
   "metadata": {},
   "outputs": [
    {
     "name": "stdout",
     "output_type": "stream",
     "text": [
      "[[1. 2.]\n",
      " [3. 0.]]\n"
     ]
    }
   ],
   "source": [
    "from sklearn.preprocessing import FunctionTransformer\n",
    "import numpy as np\n",
    "\n",
    "# create a dataset with missing values\n",
    "x = np.array([[1,2],[3,np.nan]])\n",
    "\n",
    "# define the custom cleaning function\n",
    "def my_cleaning(x):\n",
    "    x[np.isnan(x)]=0\n",
    "    return x\n",
    "\n",
    "# create a FunctionTransformer to apply the custom function\n",
    "custom_transformer = FunctionTransformer(my_cleaning)\n",
    "\n",
    "# apply the transformer to the input data\n",
    "x_transformed = custom_transformer.transform(x)\n",
    "\n",
    "# view the transformed data\n",
    "print(x_transformed)"
   ]
  },
  {
   "cell_type": "markdown",
   "id": "64393c68",
   "metadata": {},
   "source": [
    "# 4. Dimensionality reduction "
   ]
  },
  {
   "cell_type": "code",
   "execution_count": 1,
   "id": "059fe546",
   "metadata": {},
   "outputs": [
    {
     "name": "stdout",
     "output_type": "stream",
     "text": [
      "[[-1.41421356]\n",
      " [ 1.41421356]]\n"
     ]
    }
   ],
   "source": [
    "from sklearn.decomposition import PCA\n",
    "from sklearn.preprocessing import FunctionTransformer\n",
    "import numpy as np\n",
    "\n",
    "# create a dataset\n",
    "X = np.array([[1, 2], [3, 4]])\n",
    "\n",
    "# define a custom PCA function\n",
    "def my_pca(X):\n",
    "    pca = PCA(n_components=1)\n",
    "    X_pca = pca.fit_transform(X)\n",
    "    return X_pca\n",
    "\n",
    "# create a FunctionTransformer to apply the custom function\n",
    "custom_transformer = FunctionTransformer(my_pca)\n",
    "\n",
    "# apply the transformer to the input data\n",
    "X_transformed = custom_transformer.transform(X)\n",
    "\n",
    "# view the transformed data\n",
    "print(X_transformed)"
   ]
  },
  {
   "cell_type": "markdown",
   "id": "5d4564d6",
   "metadata": {},
   "source": [
    "# Real Life Use-Case of Function Transformer \n",
    "\n",
    "\n",
    "There are many real-life use cases where FunctionTransformer can be useful in machine learning pipelines. Here are a few examples:\n",
    "\n",
    "1. Image processing: In computer vision applications, FunctionTransformer can be used to apply custom functions to preprocess image data. For example, a custom function can be used to resize images, change the color balance, or apply filters to improve image quality.\n",
    "\n",
    "2. Natural language processing: In NLP applications, FunctionTransformer can be used to preprocess text data by applying custom functions to perform tasks such as tokenization, stemming, or removing stop words.\n",
    "\n",
    "3. Financial modeling: In finance, FunctionTransformer can be used to preprocess financial data by applying custom functions to transform the data, such as scaling stock prices, normalizing financial ratios, or imputing missing values.\n",
    "\n",
    "4. Audio signal processing: In speech recognition or music analysis applications, FunctionTransformer can be used to preprocess audio data by applying custom functions to perform tasks such as filtering noise, extracting features such as MFCCs (Mel-frequency cepstral coefficients), or resampling the audio signal.\n",
    "\n",
    "5. Sensor data processing: In Internet of Things (IoT) applications, FunctionTransformer can be used to preprocess sensor data by applying custom functions to remove outliers, impute missing values, or rescale sensor readings."
   ]
  },
  {
   "cell_type": "code",
   "execution_count": 9,
   "id": "8232a42a",
   "metadata": {},
   "outputs": [],
   "source": [
    "import numpy as np\n",
    "import pandas as pd"
   ]
  },
  {
   "cell_type": "code",
   "execution_count": 10,
   "id": "afaf74be",
   "metadata": {},
   "outputs": [],
   "source": [
    "df = pd.read_csv(\"C:\\\\Users\\\\91636\\\\OneDrive\\\\Desktop\\\\Regex ML\\\\Data\\\\covid_toy.csv\")"
   ]
  },
  {
   "cell_type": "code",
   "execution_count": 11,
   "id": "9378279e",
   "metadata": {},
   "outputs": [
    {
     "data": {
      "text/html": [
       "<div>\n",
       "<style scoped>\n",
       "    .dataframe tbody tr th:only-of-type {\n",
       "        vertical-align: middle;\n",
       "    }\n",
       "\n",
       "    .dataframe tbody tr th {\n",
       "        vertical-align: top;\n",
       "    }\n",
       "\n",
       "    .dataframe thead th {\n",
       "        text-align: right;\n",
       "    }\n",
       "</style>\n",
       "<table border=\"1\" class=\"dataframe\">\n",
       "  <thead>\n",
       "    <tr style=\"text-align: right;\">\n",
       "      <th></th>\n",
       "      <th>age</th>\n",
       "      <th>gender</th>\n",
       "      <th>fever</th>\n",
       "      <th>cough</th>\n",
       "      <th>city</th>\n",
       "      <th>has_covid</th>\n",
       "    </tr>\n",
       "  </thead>\n",
       "  <tbody>\n",
       "    <tr>\n",
       "      <th>0</th>\n",
       "      <td>60</td>\n",
       "      <td>Male</td>\n",
       "      <td>103.0</td>\n",
       "      <td>Mild</td>\n",
       "      <td>Kolkata</td>\n",
       "      <td>No</td>\n",
       "    </tr>\n",
       "    <tr>\n",
       "      <th>1</th>\n",
       "      <td>27</td>\n",
       "      <td>Male</td>\n",
       "      <td>100.0</td>\n",
       "      <td>Mild</td>\n",
       "      <td>Delhi</td>\n",
       "      <td>Yes</td>\n",
       "    </tr>\n",
       "  </tbody>\n",
       "</table>\n",
       "</div>"
      ],
      "text/plain": [
       "   age gender  fever cough     city has_covid\n",
       "0   60   Male  103.0  Mild  Kolkata        No\n",
       "1   27   Male  100.0  Mild    Delhi       Yes"
      ]
     },
     "execution_count": 11,
     "metadata": {},
     "output_type": "execute_result"
    }
   ],
   "source": [
    "df.head(2)"
   ]
  },
  {
   "cell_type": "code",
   "execution_count": 12,
   "id": "8ef140ce",
   "metadata": {},
   "outputs": [],
   "source": [
    "from sklearn.preprocessing import LabelEncoder"
   ]
  },
  {
   "cell_type": "code",
   "execution_count": 17,
   "id": "f82a9f75",
   "metadata": {},
   "outputs": [],
   "source": [
    "lb = LabelEncoder()"
   ]
  },
  {
   "cell_type": "code",
   "execution_count": 18,
   "id": "827f8c46",
   "metadata": {},
   "outputs": [],
   "source": [
    "df['gender'] = lb.fit_transform(df['gender'])\n",
    "df['cough'] = lb.fit_transform(df['cough'])\n",
    "df['city'] = lb.fit_transform(df['city'])\n",
    "df['has_covid'] = lb.fit_transform(df['has_covid'])"
   ]
  },
  {
   "cell_type": "code",
   "execution_count": 23,
   "id": "7c111524",
   "metadata": {},
   "outputs": [
    {
     "data": {
      "text/html": [
       "<div>\n",
       "<style scoped>\n",
       "    .dataframe tbody tr th:only-of-type {\n",
       "        vertical-align: middle;\n",
       "    }\n",
       "\n",
       "    .dataframe tbody tr th {\n",
       "        vertical-align: top;\n",
       "    }\n",
       "\n",
       "    .dataframe thead th {\n",
       "        text-align: right;\n",
       "    }\n",
       "</style>\n",
       "<table border=\"1\" class=\"dataframe\">\n",
       "  <thead>\n",
       "    <tr style=\"text-align: right;\">\n",
       "      <th></th>\n",
       "      <th>age</th>\n",
       "      <th>gender</th>\n",
       "      <th>fever</th>\n",
       "      <th>cough</th>\n",
       "      <th>city</th>\n",
       "      <th>has_covid</th>\n",
       "    </tr>\n",
       "  </thead>\n",
       "  <tbody>\n",
       "    <tr>\n",
       "      <th>0</th>\n",
       "      <td>60</td>\n",
       "      <td>1</td>\n",
       "      <td>103.0</td>\n",
       "      <td>0</td>\n",
       "      <td>2</td>\n",
       "      <td>0</td>\n",
       "    </tr>\n",
       "    <tr>\n",
       "      <th>1</th>\n",
       "      <td>27</td>\n",
       "      <td>1</td>\n",
       "      <td>100.0</td>\n",
       "      <td>0</td>\n",
       "      <td>1</td>\n",
       "      <td>1</td>\n",
       "    </tr>\n",
       "    <tr>\n",
       "      <th>2</th>\n",
       "      <td>42</td>\n",
       "      <td>1</td>\n",
       "      <td>101.0</td>\n",
       "      <td>0</td>\n",
       "      <td>1</td>\n",
       "      <td>0</td>\n",
       "    </tr>\n",
       "    <tr>\n",
       "      <th>3</th>\n",
       "      <td>31</td>\n",
       "      <td>0</td>\n",
       "      <td>98.0</td>\n",
       "      <td>0</td>\n",
       "      <td>2</td>\n",
       "      <td>0</td>\n",
       "    </tr>\n",
       "    <tr>\n",
       "      <th>4</th>\n",
       "      <td>65</td>\n",
       "      <td>0</td>\n",
       "      <td>101.0</td>\n",
       "      <td>0</td>\n",
       "      <td>3</td>\n",
       "      <td>0</td>\n",
       "    </tr>\n",
       "  </tbody>\n",
       "</table>\n",
       "</div>"
      ],
      "text/plain": [
       "   age  gender  fever  cough  city  has_covid\n",
       "0   60       1  103.0      0     2          0\n",
       "1   27       1  100.0      0     1          1\n",
       "2   42       1  101.0      0     1          0\n",
       "3   31       0   98.0      0     2          0\n",
       "4   65       0  101.0      0     3          0"
      ]
     },
     "execution_count": 23,
     "metadata": {},
     "output_type": "execute_result"
    }
   ],
   "source": [
    "df.head()"
   ]
  },
  {
   "cell_type": "code",
   "execution_count": 19,
   "id": "dcff7776",
   "metadata": {},
   "outputs": [],
   "source": [
    "from sklearn.preprocessing import FunctionTransformer"
   ]
  },
  {
   "cell_type": "code",
   "execution_count": 20,
   "id": "1e64be64",
   "metadata": {},
   "outputs": [],
   "source": [
    "trf = FunctionTransformer(func = np.log1p)"
   ]
  },
  {
   "cell_type": "code",
   "execution_count": 21,
   "id": "58757737",
   "metadata": {},
   "outputs": [],
   "source": [
    "new_df = trf.fit_transform(df)"
   ]
  },
  {
   "cell_type": "code",
   "execution_count": 22,
   "id": "2fa8ab77",
   "metadata": {
    "scrolled": true
   },
   "outputs": [
    {
     "data": {
      "text/html": [
       "<div>\n",
       "<style scoped>\n",
       "    .dataframe tbody tr th:only-of-type {\n",
       "        vertical-align: middle;\n",
       "    }\n",
       "\n",
       "    .dataframe tbody tr th {\n",
       "        vertical-align: top;\n",
       "    }\n",
       "\n",
       "    .dataframe thead th {\n",
       "        text-align: right;\n",
       "    }\n",
       "</style>\n",
       "<table border=\"1\" class=\"dataframe\">\n",
       "  <thead>\n",
       "    <tr style=\"text-align: right;\">\n",
       "      <th></th>\n",
       "      <th>age</th>\n",
       "      <th>gender</th>\n",
       "      <th>fever</th>\n",
       "      <th>cough</th>\n",
       "      <th>city</th>\n",
       "      <th>has_covid</th>\n",
       "    </tr>\n",
       "  </thead>\n",
       "  <tbody>\n",
       "    <tr>\n",
       "      <th>0</th>\n",
       "      <td>4.110874</td>\n",
       "      <td>0.693147</td>\n",
       "      <td>4.644391</td>\n",
       "      <td>0.000000</td>\n",
       "      <td>1.098612</td>\n",
       "      <td>0.000000</td>\n",
       "    </tr>\n",
       "    <tr>\n",
       "      <th>1</th>\n",
       "      <td>3.332205</td>\n",
       "      <td>0.693147</td>\n",
       "      <td>4.615121</td>\n",
       "      <td>0.000000</td>\n",
       "      <td>0.693147</td>\n",
       "      <td>0.693147</td>\n",
       "    </tr>\n",
       "    <tr>\n",
       "      <th>2</th>\n",
       "      <td>3.761200</td>\n",
       "      <td>0.693147</td>\n",
       "      <td>4.624973</td>\n",
       "      <td>0.000000</td>\n",
       "      <td>0.693147</td>\n",
       "      <td>0.000000</td>\n",
       "    </tr>\n",
       "    <tr>\n",
       "      <th>3</th>\n",
       "      <td>3.465736</td>\n",
       "      <td>0.000000</td>\n",
       "      <td>4.595120</td>\n",
       "      <td>0.000000</td>\n",
       "      <td>1.098612</td>\n",
       "      <td>0.000000</td>\n",
       "    </tr>\n",
       "    <tr>\n",
       "      <th>4</th>\n",
       "      <td>4.189655</td>\n",
       "      <td>0.000000</td>\n",
       "      <td>4.624973</td>\n",
       "      <td>0.000000</td>\n",
       "      <td>1.386294</td>\n",
       "      <td>0.000000</td>\n",
       "    </tr>\n",
       "    <tr>\n",
       "      <th>...</th>\n",
       "      <td>...</td>\n",
       "      <td>...</td>\n",
       "      <td>...</td>\n",
       "      <td>...</td>\n",
       "      <td>...</td>\n",
       "      <td>...</td>\n",
       "    </tr>\n",
       "    <tr>\n",
       "      <th>95</th>\n",
       "      <td>2.564949</td>\n",
       "      <td>0.000000</td>\n",
       "      <td>4.653960</td>\n",
       "      <td>0.000000</td>\n",
       "      <td>0.000000</td>\n",
       "      <td>0.000000</td>\n",
       "    </tr>\n",
       "    <tr>\n",
       "      <th>96</th>\n",
       "      <td>3.951244</td>\n",
       "      <td>0.000000</td>\n",
       "      <td>4.624973</td>\n",
       "      <td>0.693147</td>\n",
       "      <td>1.098612</td>\n",
       "      <td>0.693147</td>\n",
       "    </tr>\n",
       "    <tr>\n",
       "      <th>97</th>\n",
       "      <td>3.044522</td>\n",
       "      <td>0.000000</td>\n",
       "      <td>4.624973</td>\n",
       "      <td>0.000000</td>\n",
       "      <td>0.000000</td>\n",
       "      <td>0.000000</td>\n",
       "    </tr>\n",
       "    <tr>\n",
       "      <th>98</th>\n",
       "      <td>1.791759</td>\n",
       "      <td>0.000000</td>\n",
       "      <td>4.595120</td>\n",
       "      <td>0.693147</td>\n",
       "      <td>1.386294</td>\n",
       "      <td>0.000000</td>\n",
       "    </tr>\n",
       "    <tr>\n",
       "      <th>99</th>\n",
       "      <td>2.397895</td>\n",
       "      <td>0.000000</td>\n",
       "      <td>4.595120</td>\n",
       "      <td>0.693147</td>\n",
       "      <td>1.098612</td>\n",
       "      <td>0.693147</td>\n",
       "    </tr>\n",
       "  </tbody>\n",
       "</table>\n",
       "<p>100 rows × 6 columns</p>\n",
       "</div>"
      ],
      "text/plain": [
       "         age    gender     fever     cough      city  has_covid\n",
       "0   4.110874  0.693147  4.644391  0.000000  1.098612   0.000000\n",
       "1   3.332205  0.693147  4.615121  0.000000  0.693147   0.693147\n",
       "2   3.761200  0.693147  4.624973  0.000000  0.693147   0.000000\n",
       "3   3.465736  0.000000  4.595120  0.000000  1.098612   0.000000\n",
       "4   4.189655  0.000000  4.624973  0.000000  1.386294   0.000000\n",
       "..       ...       ...       ...       ...       ...        ...\n",
       "95  2.564949  0.000000  4.653960  0.000000  0.000000   0.000000\n",
       "96  3.951244  0.000000  4.624973  0.693147  1.098612   0.693147\n",
       "97  3.044522  0.000000  4.624973  0.000000  0.000000   0.000000\n",
       "98  1.791759  0.000000  4.595120  0.693147  1.386294   0.000000\n",
       "99  2.397895  0.000000  4.595120  0.693147  1.098612   0.693147\n",
       "\n",
       "[100 rows x 6 columns]"
      ]
     },
     "execution_count": 22,
     "metadata": {},
     "output_type": "execute_result"
    }
   ],
   "source": [
    "new_df"
   ]
  },
  {
   "cell_type": "code",
   "execution_count": 26,
   "id": "de1075d2",
   "metadata": {},
   "outputs": [],
   "source": [
    "df = pd.read_csv(\"C:\\\\Users\\\\91636\\\\OneDrive\\\\Desktop\\\\Regex ML\\\\Data\\\\tips.csv\")"
   ]
  },
  {
   "cell_type": "code",
   "execution_count": 27,
   "id": "f828b06b",
   "metadata": {},
   "outputs": [
    {
     "data": {
      "text/html": [
       "<div>\n",
       "<style scoped>\n",
       "    .dataframe tbody tr th:only-of-type {\n",
       "        vertical-align: middle;\n",
       "    }\n",
       "\n",
       "    .dataframe tbody tr th {\n",
       "        vertical-align: top;\n",
       "    }\n",
       "\n",
       "    .dataframe thead th {\n",
       "        text-align: right;\n",
       "    }\n",
       "</style>\n",
       "<table border=\"1\" class=\"dataframe\">\n",
       "  <thead>\n",
       "    <tr style=\"text-align: right;\">\n",
       "      <th></th>\n",
       "      <th>total_bill</th>\n",
       "      <th>tip</th>\n",
       "      <th>sex</th>\n",
       "      <th>smoker</th>\n",
       "      <th>day</th>\n",
       "      <th>time</th>\n",
       "      <th>size</th>\n",
       "    </tr>\n",
       "  </thead>\n",
       "  <tbody>\n",
       "    <tr>\n",
       "      <th>0</th>\n",
       "      <td>16.99</td>\n",
       "      <td>1.01</td>\n",
       "      <td>Female</td>\n",
       "      <td>No</td>\n",
       "      <td>Sun</td>\n",
       "      <td>Dinner</td>\n",
       "      <td>2</td>\n",
       "    </tr>\n",
       "    <tr>\n",
       "      <th>1</th>\n",
       "      <td>10.34</td>\n",
       "      <td>1.66</td>\n",
       "      <td>Male</td>\n",
       "      <td>No</td>\n",
       "      <td>Sun</td>\n",
       "      <td>Dinner</td>\n",
       "      <td>3</td>\n",
       "    </tr>\n",
       "  </tbody>\n",
       "</table>\n",
       "</div>"
      ],
      "text/plain": [
       "   total_bill   tip     sex smoker  day    time  size\n",
       "0       16.99  1.01  Female     No  Sun  Dinner     2\n",
       "1       10.34  1.66    Male     No  Sun  Dinner     3"
      ]
     },
     "execution_count": 27,
     "metadata": {},
     "output_type": "execute_result"
    }
   ],
   "source": [
    "df.head(2)"
   ]
  },
  {
   "cell_type": "code",
   "execution_count": 28,
   "id": "eb7e26d1",
   "metadata": {},
   "outputs": [],
   "source": [
    "from sklearn.preprocessing import LabelEncoder"
   ]
  },
  {
   "cell_type": "code",
   "execution_count": 29,
   "id": "8c86aa19",
   "metadata": {},
   "outputs": [],
   "source": [
    "lb = LabelEncoder()"
   ]
  },
  {
   "cell_type": "code",
   "execution_count": 30,
   "id": "6a175137",
   "metadata": {},
   "outputs": [],
   "source": [
    "df['sex'] = lb.fit_transform(df['sex'])\n",
    "df['smoker'] = lb.fit_transform(df['smoker'])\n",
    "df['day'] = lb.fit_transform(df['day'])\n",
    "df['time'] = lb.fit_transform(df['time'])"
   ]
  },
  {
   "cell_type": "code",
   "execution_count": 31,
   "id": "7280b30e",
   "metadata": {
    "scrolled": true
   },
   "outputs": [
    {
     "data": {
      "text/html": [
       "<div>\n",
       "<style scoped>\n",
       "    .dataframe tbody tr th:only-of-type {\n",
       "        vertical-align: middle;\n",
       "    }\n",
       "\n",
       "    .dataframe tbody tr th {\n",
       "        vertical-align: top;\n",
       "    }\n",
       "\n",
       "    .dataframe thead th {\n",
       "        text-align: right;\n",
       "    }\n",
       "</style>\n",
       "<table border=\"1\" class=\"dataframe\">\n",
       "  <thead>\n",
       "    <tr style=\"text-align: right;\">\n",
       "      <th></th>\n",
       "      <th>total_bill</th>\n",
       "      <th>tip</th>\n",
       "      <th>sex</th>\n",
       "      <th>smoker</th>\n",
       "      <th>day</th>\n",
       "      <th>time</th>\n",
       "      <th>size</th>\n",
       "    </tr>\n",
       "  </thead>\n",
       "  <tbody>\n",
       "    <tr>\n",
       "      <th>0</th>\n",
       "      <td>16.99</td>\n",
       "      <td>1.01</td>\n",
       "      <td>0</td>\n",
       "      <td>0</td>\n",
       "      <td>2</td>\n",
       "      <td>0</td>\n",
       "      <td>2</td>\n",
       "    </tr>\n",
       "    <tr>\n",
       "      <th>1</th>\n",
       "      <td>10.34</td>\n",
       "      <td>1.66</td>\n",
       "      <td>1</td>\n",
       "      <td>0</td>\n",
       "      <td>2</td>\n",
       "      <td>0</td>\n",
       "      <td>3</td>\n",
       "    </tr>\n",
       "    <tr>\n",
       "      <th>2</th>\n",
       "      <td>21.01</td>\n",
       "      <td>3.50</td>\n",
       "      <td>1</td>\n",
       "      <td>0</td>\n",
       "      <td>2</td>\n",
       "      <td>0</td>\n",
       "      <td>3</td>\n",
       "    </tr>\n",
       "    <tr>\n",
       "      <th>3</th>\n",
       "      <td>23.68</td>\n",
       "      <td>3.31</td>\n",
       "      <td>1</td>\n",
       "      <td>0</td>\n",
       "      <td>2</td>\n",
       "      <td>0</td>\n",
       "      <td>2</td>\n",
       "    </tr>\n",
       "    <tr>\n",
       "      <th>4</th>\n",
       "      <td>24.59</td>\n",
       "      <td>3.61</td>\n",
       "      <td>0</td>\n",
       "      <td>0</td>\n",
       "      <td>2</td>\n",
       "      <td>0</td>\n",
       "      <td>4</td>\n",
       "    </tr>\n",
       "  </tbody>\n",
       "</table>\n",
       "</div>"
      ],
      "text/plain": [
       "   total_bill   tip  sex  smoker  day  time  size\n",
       "0       16.99  1.01    0       0    2     0     2\n",
       "1       10.34  1.66    1       0    2     0     3\n",
       "2       21.01  3.50    1       0    2     0     3\n",
       "3       23.68  3.31    1       0    2     0     2\n",
       "4       24.59  3.61    0       0    2     0     4"
      ]
     },
     "execution_count": 31,
     "metadata": {},
     "output_type": "execute_result"
    }
   ],
   "source": [
    "df.head()"
   ]
  },
  {
   "cell_type": "code",
   "execution_count": 32,
   "id": "bf19e376",
   "metadata": {},
   "outputs": [],
   "source": [
    "from sklearn.preprocessing import FunctionTransformer"
   ]
  },
  {
   "cell_type": "code",
   "execution_count": 33,
   "id": "47fcce58",
   "metadata": {},
   "outputs": [],
   "source": [
    "tf = FunctionTransformer(func = np.log1p)"
   ]
  },
  {
   "cell_type": "code",
   "execution_count": 34,
   "id": "c6943480",
   "metadata": {},
   "outputs": [],
   "source": [
    "new_df = tf.fit_transform(df)"
   ]
  },
  {
   "cell_type": "code",
   "execution_count": 35,
   "id": "df22ab8e",
   "metadata": {
    "scrolled": true
   },
   "outputs": [
    {
     "data": {
      "text/html": [
       "<div>\n",
       "<style scoped>\n",
       "    .dataframe tbody tr th:only-of-type {\n",
       "        vertical-align: middle;\n",
       "    }\n",
       "\n",
       "    .dataframe tbody tr th {\n",
       "        vertical-align: top;\n",
       "    }\n",
       "\n",
       "    .dataframe thead th {\n",
       "        text-align: right;\n",
       "    }\n",
       "</style>\n",
       "<table border=\"1\" class=\"dataframe\">\n",
       "  <thead>\n",
       "    <tr style=\"text-align: right;\">\n",
       "      <th></th>\n",
       "      <th>total_bill</th>\n",
       "      <th>tip</th>\n",
       "      <th>sex</th>\n",
       "      <th>smoker</th>\n",
       "      <th>day</th>\n",
       "      <th>time</th>\n",
       "      <th>size</th>\n",
       "    </tr>\n",
       "  </thead>\n",
       "  <tbody>\n",
       "    <tr>\n",
       "      <th>0</th>\n",
       "      <td>2.889816</td>\n",
       "      <td>0.698135</td>\n",
       "      <td>0.000000</td>\n",
       "      <td>0.000000</td>\n",
       "      <td>1.098612</td>\n",
       "      <td>0.0</td>\n",
       "      <td>1.098612</td>\n",
       "    </tr>\n",
       "    <tr>\n",
       "      <th>1</th>\n",
       "      <td>2.428336</td>\n",
       "      <td>0.978326</td>\n",
       "      <td>0.693147</td>\n",
       "      <td>0.000000</td>\n",
       "      <td>1.098612</td>\n",
       "      <td>0.0</td>\n",
       "      <td>1.386294</td>\n",
       "    </tr>\n",
       "    <tr>\n",
       "      <th>2</th>\n",
       "      <td>3.091497</td>\n",
       "      <td>1.504077</td>\n",
       "      <td>0.693147</td>\n",
       "      <td>0.000000</td>\n",
       "      <td>1.098612</td>\n",
       "      <td>0.0</td>\n",
       "      <td>1.386294</td>\n",
       "    </tr>\n",
       "    <tr>\n",
       "      <th>3</th>\n",
       "      <td>3.205993</td>\n",
       "      <td>1.460938</td>\n",
       "      <td>0.693147</td>\n",
       "      <td>0.000000</td>\n",
       "      <td>1.098612</td>\n",
       "      <td>0.0</td>\n",
       "      <td>1.098612</td>\n",
       "    </tr>\n",
       "    <tr>\n",
       "      <th>4</th>\n",
       "      <td>3.242202</td>\n",
       "      <td>1.528228</td>\n",
       "      <td>0.000000</td>\n",
       "      <td>0.000000</td>\n",
       "      <td>1.098612</td>\n",
       "      <td>0.0</td>\n",
       "      <td>1.609438</td>\n",
       "    </tr>\n",
       "    <tr>\n",
       "      <th>...</th>\n",
       "      <td>...</td>\n",
       "      <td>...</td>\n",
       "      <td>...</td>\n",
       "      <td>...</td>\n",
       "      <td>...</td>\n",
       "      <td>...</td>\n",
       "      <td>...</td>\n",
       "    </tr>\n",
       "    <tr>\n",
       "      <th>239</th>\n",
       "      <td>3.402197</td>\n",
       "      <td>1.934416</td>\n",
       "      <td>0.693147</td>\n",
       "      <td>0.000000</td>\n",
       "      <td>0.693147</td>\n",
       "      <td>0.0</td>\n",
       "      <td>1.386294</td>\n",
       "    </tr>\n",
       "    <tr>\n",
       "      <th>240</th>\n",
       "      <td>3.338613</td>\n",
       "      <td>1.098612</td>\n",
       "      <td>0.000000</td>\n",
       "      <td>0.693147</td>\n",
       "      <td>0.693147</td>\n",
       "      <td>0.0</td>\n",
       "      <td>1.098612</td>\n",
       "    </tr>\n",
       "    <tr>\n",
       "      <th>241</th>\n",
       "      <td>3.164208</td>\n",
       "      <td>1.098612</td>\n",
       "      <td>0.693147</td>\n",
       "      <td>0.693147</td>\n",
       "      <td>0.693147</td>\n",
       "      <td>0.0</td>\n",
       "      <td>1.098612</td>\n",
       "    </tr>\n",
       "    <tr>\n",
       "      <th>242</th>\n",
       "      <td>2.934920</td>\n",
       "      <td>1.011601</td>\n",
       "      <td>0.693147</td>\n",
       "      <td>0.000000</td>\n",
       "      <td>0.693147</td>\n",
       "      <td>0.0</td>\n",
       "      <td>1.098612</td>\n",
       "    </tr>\n",
       "    <tr>\n",
       "      <th>243</th>\n",
       "      <td>2.984671</td>\n",
       "      <td>1.386294</td>\n",
       "      <td>0.000000</td>\n",
       "      <td>0.000000</td>\n",
       "      <td>1.386294</td>\n",
       "      <td>0.0</td>\n",
       "      <td>1.098612</td>\n",
       "    </tr>\n",
       "  </tbody>\n",
       "</table>\n",
       "<p>244 rows × 7 columns</p>\n",
       "</div>"
      ],
      "text/plain": [
       "     total_bill       tip       sex    smoker       day  time      size\n",
       "0      2.889816  0.698135  0.000000  0.000000  1.098612   0.0  1.098612\n",
       "1      2.428336  0.978326  0.693147  0.000000  1.098612   0.0  1.386294\n",
       "2      3.091497  1.504077  0.693147  0.000000  1.098612   0.0  1.386294\n",
       "3      3.205993  1.460938  0.693147  0.000000  1.098612   0.0  1.098612\n",
       "4      3.242202  1.528228  0.000000  0.000000  1.098612   0.0  1.609438\n",
       "..          ...       ...       ...       ...       ...   ...       ...\n",
       "239    3.402197  1.934416  0.693147  0.000000  0.693147   0.0  1.386294\n",
       "240    3.338613  1.098612  0.000000  0.693147  0.693147   0.0  1.098612\n",
       "241    3.164208  1.098612  0.693147  0.693147  0.693147   0.0  1.098612\n",
       "242    2.934920  1.011601  0.693147  0.000000  0.693147   0.0  1.098612\n",
       "243    2.984671  1.386294  0.000000  0.000000  1.386294   0.0  1.098612\n",
       "\n",
       "[244 rows x 7 columns]"
      ]
     },
     "execution_count": 35,
     "metadata": {},
     "output_type": "execute_result"
    }
   ],
   "source": [
    "new_df"
   ]
  },
  {
   "cell_type": "code",
   "execution_count": null,
   "id": "d623adc4",
   "metadata": {},
   "outputs": [],
   "source": [
    "click"
   ]
  }
 ],
 "metadata": {
  "kernelspec": {
   "display_name": "Python 3 (ipykernel)",
   "language": "python",
   "name": "python3"
  },
  "language_info": {
   "codemirror_mode": {
    "name": "ipython",
    "version": 3
   },
   "file_extension": ".py",
   "mimetype": "text/x-python",
   "name": "python",
   "nbconvert_exporter": "python",
   "pygments_lexer": "ipython3",
   "version": "3.9.12"
  }
 },
 "nbformat": 4,
 "nbformat_minor": 5
}
