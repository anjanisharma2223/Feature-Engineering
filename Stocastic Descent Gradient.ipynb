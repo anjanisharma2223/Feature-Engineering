{
 "cells": [
  {
   "cell_type": "code",
   "execution_count": 1,
   "id": "5ed2cf2a",
   "metadata": {},
   "outputs": [],
   "source": [
    "from sklearn.datasets import load_diabetes\n",
    "import numpy as np\n",
    "from sklearn.linear_model import LinearRegression\n",
    "from sklearn.metrics import r2_score\n",
    "from sklearn.model_selection import train_test_split"
   ]
  },
  {
   "cell_type": "code",
   "execution_count": 2,
   "id": "db78f517",
   "metadata": {},
   "outputs": [
    {
     "name": "stdout",
     "output_type": "stream",
     "text": [
      "(442, 10)\n",
      "(442,)\n"
     ]
    }
   ],
   "source": [
    "x,y = load_diabetes(return_X_y = True)\n",
    "print(x.shape)\n",
    "print(y.shape)"
   ]
  },
  {
   "cell_type": "code",
   "execution_count": 3,
   "id": "250739d2",
   "metadata": {},
   "outputs": [],
   "source": [
    "x_train, x_test, y_train, y_test = train_test_split(x, y, test_size = 0.2, random_state = 42)"
   ]
  },
  {
   "cell_type": "code",
   "execution_count": 4,
   "id": "92bd1178",
   "metadata": {},
   "outputs": [
    {
     "data": {
      "text/plain": [
       "LinearRegression()"
      ]
     },
     "execution_count": 4,
     "metadata": {},
     "output_type": "execute_result"
    }
   ],
   "source": [
    "reg = LinearRegression()\n",
    "reg.fit(x_train, y_train)"
   ]
  },
  {
   "cell_type": "code",
   "execution_count": 5,
   "id": "9f7a9d50",
   "metadata": {},
   "outputs": [
    {
     "data": {
      "text/plain": [
       "0.45260660216173787"
      ]
     },
     "execution_count": 5,
     "metadata": {},
     "output_type": "execute_result"
    }
   ],
   "source": [
    "y_pred = reg.predict(x_test)\n",
    "r2_score(y_test, y_pred)"
   ]
  },
  {
   "cell_type": "code",
   "execution_count": 18,
   "id": "05375596",
   "metadata": {},
   "outputs": [],
   "source": [
    "# Now we create our own class \n",
    "\n",
    "class SGDRegressor :\n",
    "    \n",
    "    def __init__(self , learning_rate = 0.01 , epochs = 100):\n",
    "        self.coef_ = None \n",
    "        self.intercept_ = None \n",
    "        self.lr = learning_rate  \n",
    "        self.epochs = epochs \n",
    "        \n",
    "        \n",
    "    def fit(self , x_train , y_train):\n",
    "        #init our coefs \n",
    "        self.intercept_ = 0 \n",
    "        self.coef_ = np.ones(x_train.shape[1])\n",
    "        \n",
    "        for i in range(self.epochs):\n",
    "            for j in range(x_train.shape[0]):\n",
    "                idx = np.random.randint(0 , x_train.shape[0]) \n",
    "                \n",
    "                y_hat = np.dot(x_train[idx] , self.coef_) + self.intercept_\n",
    "                \n",
    "                intercept_der = -2*(y_train[idx] - y_hat) \n",
    "                self.intercept_ = self.intercept_ - (self.lr*intercept_der)\n",
    "                \n",
    "                coef_der = -2*np.dot((y_train[idx] - y_hat) , x_train[idx]) \n",
    "                self.coef_ = self.coef_ - (self.lr*coef_der) \n",
    "                \n",
    "            \n",
    "        print(self.intercept_ , self.coef_) \n",
    "        \n",
    "    def predict(self , x_test):\n",
    "        return np.dot(x_test , self.coef_) + self.intercept_\n",
    "        \n",
    "            \n",
    "         \n"
   ]
  },
  {
   "cell_type": "code",
   "execution_count": 7,
   "id": "25418d8a",
   "metadata": {},
   "outputs": [],
   "source": [
    "# np.random."
   ]
  },
  {
   "cell_type": "code",
   "execution_count": 19,
   "id": "c87bc700",
   "metadata": {},
   "outputs": [],
   "source": [
    "sgd = SGDRegressor(learning_rate = 0.01, epochs = 50)"
   ]
  },
  {
   "cell_type": "code",
   "execution_count": 20,
   "id": "ebd37019",
   "metadata": {
    "scrolled": true
   },
   "outputs": [
    {
     "name": "stdout",
     "output_type": "stream",
     "text": [
      "153.78137850943244 [  51.33952513  -98.27608151  373.04091154  257.8954665    -3.70026498\n",
      "  -38.80835635 -186.16103553  150.0885574   288.36186963  149.0820914 ]\n"
     ]
    }
   ],
   "source": [
    "sgd.fit(x_train, y_train)"
   ]
  },
  {
   "cell_type": "code",
   "execution_count": 21,
   "id": "0b9b6117",
   "metadata": {},
   "outputs": [],
   "source": [
    "y_pred = sgd.predict(x_test)"
   ]
  },
  {
   "cell_type": "code",
   "execution_count": 22,
   "id": "182322e1",
   "metadata": {},
   "outputs": [
    {
     "data": {
      "text/plain": [
       "0.44986070924249466"
      ]
     },
     "execution_count": 22,
     "metadata": {},
     "output_type": "execute_result"
    }
   ],
   "source": [
    "r2_score(y_test, y_pred)"
   ]
  },
  {
   "cell_type": "markdown",
   "id": "0bedca14",
   "metadata": {},
   "source": [
    "# By the help of sklearn SGDRegressor"
   ]
  },
  {
   "cell_type": "code",
   "execution_count": 12,
   "id": "18d0a01c",
   "metadata": {},
   "outputs": [],
   "source": [
    "from sklearn.linear_model import SGDRegressor"
   ]
  },
  {
   "cell_type": "code",
   "execution_count": 13,
   "id": "caf87faf",
   "metadata": {},
   "outputs": [],
   "source": [
    "reg = SGDRegressor(max_iter = 60, learning_rate = 'constant', eta0 = 0.01)"
   ]
  },
  {
   "cell_type": "code",
   "execution_count": 14,
   "id": "128af644",
   "metadata": {},
   "outputs": [
    {
     "name": "stderr",
     "output_type": "stream",
     "text": [
      "C:\\Users\\91636\\anaconda3\\lib\\site-packages\\sklearn\\linear_model\\_stochastic_gradient.py:1503: ConvergenceWarning: Maximum number of iteration reached before convergence. Consider increasing max_iter to improve the fit.\n",
      "  warnings.warn(\n"
     ]
    },
    {
     "data": {
      "text/plain": [
       "SGDRegressor(learning_rate='constant', max_iter=60)"
      ]
     },
     "execution_count": 14,
     "metadata": {},
     "output_type": "execute_result"
    }
   ],
   "source": [
    "reg.fit(x_train, y_train)"
   ]
  },
  {
   "cell_type": "code",
   "execution_count": 15,
   "id": "752e96f4",
   "metadata": {},
   "outputs": [],
   "source": [
    "y_pred = reg.predict(x_test)"
   ]
  },
  {
   "cell_type": "code",
   "execution_count": 16,
   "id": "6c9473e6",
   "metadata": {},
   "outputs": [
    {
     "data": {
      "text/plain": [
       "0.4199570413854681"
      ]
     },
     "execution_count": 16,
     "metadata": {},
     "output_type": "execute_result"
    }
   ],
   "source": [
    "r2_score(y_test, y_pred)"
   ]
  }
 ],
 "metadata": {
  "kernelspec": {
   "display_name": "Python 3 (ipykernel)",
   "language": "python",
   "name": "python3"
  },
  "language_info": {
   "codemirror_mode": {
    "name": "ipython",
    "version": 3
   },
   "file_extension": ".py",
   "mimetype": "text/x-python",
   "name": "python",
   "nbconvert_exporter": "python",
   "pygments_lexer": "ipython3",
   "version": "3.9.12"
  }
 },
 "nbformat": 4,
 "nbformat_minor": 5
}
