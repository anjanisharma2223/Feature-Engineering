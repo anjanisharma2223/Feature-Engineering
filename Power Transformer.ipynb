{
 "cells": [
  {
   "cell_type": "markdown",
   "id": "513a6c16",
   "metadata": {},
   "source": [
    "# What is PowerTransformer in Machine Learning ?\n",
    "\n",
    "In machine learning, the PowerTransformer in a type of data preprocessing technique used to transform the features of a daat to make them more Gaussina-like (more normally distributed)."
   ]
  },
  {
   "cell_type": "markdown",
   "id": "1b63bda2",
   "metadata": {},
   "source": [
    "# How I decide where I have to use Box-cox and where I have to use yeo-johnson ?\n",
    "\n",
    "Box-Cox: The Box-Cox transformation is appropriate for non negative data that does not contain zero values. It assumes that the data follows a normal distribution and applies a power transformation to achive normality. The Box-Cox transformation is a more rigid transformation compared to the Yeo-Johnson transformation, because it requires the data to be strictly positive and cannot handle zero values.\n",
    "\n",
    "Yeo-Johnson: The Yeo-Johnson transformation is a more flexible transformation that can be applied to both positive and negative data, including zero values. It also assumes that the data follows a normal distribution, but it applies"
   ]
  },
  {
   "cell_type": "code",
   "execution_count": 4,
   "id": "beb4b2e9",
   "metadata": {},
   "outputs": [
    {
     "name": "stdout",
     "output_type": "stream",
     "text": [
      "Original data:\n",
      " [[1.22427115]\n",
      " [3.80596999]\n",
      " [7.66016841]\n",
      " [2.26005453]\n",
      " [0.35486822]]\n",
      "Transformed data:\n",
      " [[-0.34936739]\n",
      " [ 1.0316564 ]\n",
      " [ 2.09860974]\n",
      " [ 0.33384854]\n",
      " [-1.22914218]]\n"
     ]
    }
   ],
   "source": [
    "import numpy as np\n",
    "from sklearn.preprocessing import PowerTransformer\n",
    "\n",
    "# Generate some random data with a skewed distribution \n",
    "data = np.random.gamma(1, 2, size=(100,1))\n",
    "\n",
    "# Instantiate a PowerTransformer object\n",
    "pt = PowerTransformer(method = 'yeo-johnson')\n",
    "\n",
    "# Fit the PowerTransformer to the data and transform it\n",
    "transformed_data = pt.fit_transform(data)\n",
    "\n",
    "# Print the original and transformed data to compare\n",
    "print('Original data:\\n', data[:5])\n",
    "print('Transformed data:\\n', transformed_data[:5])"
   ]
  },
  {
   "cell_type": "code",
   "execution_count": 3,
   "id": "ebdf5ded",
   "metadata": {},
   "outputs": [
    {
     "name": "stdout",
     "output_type": "stream",
     "text": [
      "Original data:\n",
      " [[0.01026004]\n",
      " [0.42886617]\n",
      " [3.50664043]\n",
      " [3.4747023 ]\n",
      " [4.57017164]]\n",
      "Transformed data:\n",
      " [[-2.77327425]\n",
      " [-1.1934091 ]\n",
      " [ 0.96865453]\n",
      " [ 0.95576482]\n",
      " [ 1.35856607]]\n"
     ]
    }
   ],
   "source": [
    "import numpy as np\n",
    "from sklearn.preprocessing import PowerTransformer\n",
    "\n",
    "# Generate some random data with a skewed distribution \n",
    "data = np.random.gamma(1, 2, size=(100,1))\n",
    "\n",
    "# Instantiate a PowerTransformer object\n",
    "pt = PowerTransformer(method = 'box-cox')\n",
    "\n",
    "# Fit the PowerTransformer to the data and transform it\n",
    "transformed_data = pt.fit_transform(data)\n",
    "\n",
    "# Print the original and transformed data to compare\n",
    "print('Original data:\\n', data[:5])\n",
    "print('Transformed data:\\n', transformed_data[:5])"
   ]
  },
  {
   "cell_type": "code",
   "execution_count": 5,
   "id": "3fa19a74",
   "metadata": {},
   "outputs": [],
   "source": [
    "import numpy as np\n",
    "from sklearn.preprocessing import PowerTransformer\n",
    "from sklearn.model_selection import train_test_split\n",
    "from sklearn.linear_model import LinearRegression\n",
    "\n",
    "# Create a synthetic dataset\n",
    "x = np.random.normal(loc=100, scale=10, size=(1000,5))\n",
    "y = np.random.normal(loc=100, scale=10, size=1000)\n",
    "\n",
    "# Split the data into training and testing sets\n",
    "x_train, x_test, y_train, y_test = train_test_split(x, y, test_size=0.2, random_state=42)"
   ]
  },
  {
   "cell_type": "code",
   "execution_count": 8,
   "id": "210b9d2d",
   "metadata": {},
   "outputs": [],
   "source": [
    "# Fit and transform the sata using Box-Cox method\n",
    "boxcox_transformer = PowerTransformer(method='box-cox', standardize=True)\n",
    "x_train_bc = boxcox_transformer.fit_transform(x_train)\n",
    "x_test_bc = boxcox_transformer.fit_transform(x_test)\n",
    "\n",
    "# Fit and transform the sata using Yeo-Johnson method\n",
    "yeojohnson_transformer = PowerTransformer(method='yeo-johnson', standardize=True)\n",
    "x_train_yj = yeojohnson_transformer.fit_transform(x_train)\n",
    "x_test_yj = yeojohnson_transformer.fit_transform(x_test)"
   ]
  },
  {
   "cell_type": "code",
   "execution_count": null,
   "id": "19da6c0f",
   "metadata": {},
   "outputs": [],
   "source": [
    "# Train a linear regression model using Box-Cox transformed data\n"
   ]
  }
 ],
 "metadata": {
  "kernelspec": {
   "display_name": "Python 3 (ipykernel)",
   "language": "python",
   "name": "python3"
  },
  "language_info": {
   "codemirror_mode": {
    "name": "ipython",
    "version": 3
   },
   "file_extension": ".py",
   "mimetype": "text/x-python",
   "name": "python",
   "nbconvert_exporter": "python",
   "pygments_lexer": "ipython3",
   "version": "3.9.12"
  }
 },
 "nbformat": 4,
 "nbformat_minor": 5
}
